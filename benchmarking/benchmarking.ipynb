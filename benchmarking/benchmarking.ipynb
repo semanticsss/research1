{
 "cells": [
  {
   "cell_type": "code",
   "execution_count": 7,
   "metadata": {},
   "outputs": [
    {
     "ename": "TypeError",
     "evalue": "open() missing 1 required positional argument: 'fp'",
     "output_type": "error",
     "traceback": [
      "\u001b[0;31m---------------------------------------------------------------------------\u001b[0m",
      "\u001b[0;31mTypeError\u001b[0m                                 Traceback (most recent call last)",
      "Cell \u001b[0;32mIn[7], line 11\u001b[0m\n\u001b[1;32m      8\u001b[0m \u001b[39mimport\u001b[39;00m \u001b[39mnumpy\u001b[39;00m \u001b[39mas\u001b[39;00m \u001b[39mnp\u001b[39;00m\n\u001b[1;32m      9\u001b[0m \u001b[39mfrom\u001b[39;00m \u001b[39msklearn\u001b[39;00m \u001b[39mimport\u001b[39;00m metrics\n\u001b[0;32m---> 11\u001b[0m image \u001b[39m=\u001b[39m Image\u001b[39m.\u001b[39;49mopen() \u001b[39m# Original image. Pass through a path.\u001b[39;00m\n\u001b[1;32m     12\u001b[0m image2 \u001b[39m=\u001b[39m Image\u001b[39m.\u001b[39mopen() \u001b[39m# Steganographic image coming from original image. Pass through a path.\u001b[39;00m\n\u001b[1;32m     14\u001b[0m \u001b[39m# Converts both images to arrays so they can be processed.\u001b[39;00m\n",
      "\u001b[0;31mTypeError\u001b[0m: open() missing 1 required positional argument: 'fp'"
     ]
    }
   ],
   "source": [
    "import sklearn\n",
    "from PIL import Image\n",
    "from SSIM_PIL import compare_ssim\n",
    "\n",
    "from sklearn.metrics import mean_squared_error, root_mean_squared_error\n",
    "# Compute MMD (maximum mean discrepancy) using numpy and scikit-learn.\n",
    "\n",
    "import numpy as np\n",
    "from sklearn import metrics\n",
    "\n",
    "image = Image.open() # Original image. Pass through a path.\n",
    "image2 = Image.open() # Steganographic image coming from original image. Pass through a path.\n",
    "\n",
    "# Converts both images to arrays so they can be processed.\n",
    "image_array = np.array(image)\n",
    "image_array2 = np.array(image2)\n",
    "\n",
    "value = compare_ssim(image, image2)\n",
    "\n",
    "\n",
    "# Will use both a linear kernel and a Guassian kernel in order to give a more comprehensive description of the two images.\n",
    "# A linear kernel is used when there is going to be more differences between the means, rather than the spread or\n",
    "# distribution. The polynomial kernel is in-between these two, and will not be used.\n",
    "def mmd_linear(X, Y):\n",
    "    \"\"\"MMD using linear kernel (i.e., k(x,y) = <x,y>)\n",
    "    Note that this is not the original linear MMD, only the reformulated and faster version.\n",
    "    The original version is:\n",
    "        def mmd_linear(X, Y):\n",
    "            XX = np.dot(X, X.T)\n",
    "            YY = np.dot(Y, Y.T)\n",
    "            XY = np.dot(X, Y.T)\n",
    "            return XX.mean() + YY.mean() - 2 * XY.mean()\n",
    "\n",
    "    Arguments:\n",
    "        X {[n_sample1, dim]} -- [X matrix]\n",
    "        Y {[n_sample2, dim]} -- [Y matrix]\n",
    "\n",
    "    Returns:\n",
    "        [scalar] -- [MMD value]\n",
    "    \"\"\"\n",
    "    delta = X.mean(0) - Y.mean(0)\n",
    "    return delta.dot(delta.T)\n",
    "\n",
    "\n",
    "def mmd_rbf(X, Y, gamma=1.0):\n",
    "    \"\"\"MMD using rbf (gaussian) kernel (i.e., k(x,y) = exp(-gamma * ||x-y||^2 / 2)) \n",
    "\n",
    "    Arguments:\n",
    "        X {[n_sample1, dim]} -- [X matrix]\n",
    "        Y {[n_sample2, dim]} -- [Y matrix]\n",
    "\n",
    "    Keyword Arguments:\n",
    "        gamma {float} -- [kernel parameter] (default: {1.0})\n",
    "\n",
    "    Returns:\n",
    "        [scalar] -- [MMD value]\n",
    "    \"\"\"\n",
    "    XX = metrics.pairwise.rbf_kernel(X, X, gamma)\n",
    "    YY = metrics.pairwise.rbf_kernel(Y, Y, gamma)\n",
    "    XY = metrics.pairwise.rbf_kernel(X, Y, gamma)\n",
    "    return XX.mean() + YY.mean() - 2 * XY.mean()\n",
    "\n",
    "\n",
    "def mmd_poly(X, Y, degree=2, gamma=1, coef0=0):\n",
    "    \"\"\"MMD using polynomial kernel (i.e., k(x,y) = (gamma <X, Y> + coef0)^degree)\n",
    "\n",
    "    Arguments:\n",
    "        X {[n_sample1, dim]} -- [X matrix]\n",
    "        Y {[n_sample2, dim]} -- [Y matrix]\n",
    "\n",
    "    Keyword Arguments:\n",
    "        degree {int} -- [degree] (default: {2})\n",
    "        gamma {int} -- [gamma] (default: {1})\n",
    "        coef0 {int} -- [constant item] (default: {0})\n",
    "\n",
    "    Returns:\n",
    "        [scalar] -- [MMD value]\n",
    "    \"\"\"\n",
    "    XX = metrics.pairwise.polynomial_kernel(X, X, degree, gamma, coef0)\n",
    "    YY = metrics.pairwise.polynomial_kernel(Y, Y, degree, gamma, coef0)\n",
    "    XY = metrics.pairwise.polynomial_kernel(X, Y, degree, gamma, coef0)\n",
    "    return XX.mean() + YY.mean() - 2 * XY.mean()\n",
    "\n",
    "\n",
    "if __name__ == '__main__':\n",
    "    a = np.arange(1, 10).reshape(3, 3)\n",
    "    b = [[7, 6, 5], [4, 3, 2], [1, 1, 8], [0, 2, 5]]\n",
    "    b = np.array(b)\n",
    "    print(a)\n",
    "    print(b)\n",
    "    print(mmd_linear(a, b))  # 6.0\n",
    "    print(mmd_rbf(a, b))  # 0.5822\n",
    "    print(mmd_poly(a, b))  # 2436.5"
   ]
  },
  {
   "attachments": {},
   "cell_type": "markdown",
   "metadata": {},
   "source": [
    "! means to make the thing a terminal or smth\n",
    "pip3 is the package manager for python\n",
    "install commands installs shit\n",
    "scikit-learn is a package\n",
    "shift enter to run the thing"
   ]
  }
 ],
 "metadata": {
  "kernelspec": {
   "display_name": "Python 3",
   "language": "python",
   "name": "python3"
  },
  "language_info": {
   "codemirror_mode": {
    "name": "ipython",
    "version": 3
   },
   "file_extension": ".py",
   "mimetype": "text/x-python",
   "name": "python",
   "nbconvert_exporter": "python",
   "pygments_lexer": "ipython3",
   "version": "3.13.0 (v3.13.0:60403a5409f, Oct  7 2024, 00:37:40) [Clang 15.0.0 (clang-1500.3.9.4)]"
  },
  "orig_nbformat": 4,
  "vscode": {
   "interpreter": {
    "hash": "8a5edab282632443219e051e4ade2d1d5bbc671c781051bf1437897cbdfea0f1"
   }
  }
 },
 "nbformat": 4,
 "nbformat_minor": 2
}
